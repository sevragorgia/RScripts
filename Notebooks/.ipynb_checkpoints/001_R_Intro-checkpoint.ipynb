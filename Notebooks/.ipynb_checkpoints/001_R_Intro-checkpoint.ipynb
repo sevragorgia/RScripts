{
 "cells": [
  {
   "cell_type": "markdown",
   "metadata": {
    "deletable": true,
    "editable": true
   },
   "source": [
    "# Introduction to R\n",
    "\n",
    "The purpose of this notebook, or series of notebooks, is to provide an introduction to R for students of the BSc programm in Geosciences at the LMU Muenchen.\n",
    "\n",
    "Here I provide a number of examples that can be run in an interactive manner and should help the student get familiar with R as a tool for the analysis of data.\n",
    "\n",
    "It will also provide an opportunity to write markdown and see its power.\n",
    "\n",
    "## R basics\n",
    "\n",
    "Maybe the first thing you need to know is that R can be used in interactive mode. You can ask R to add two number, for example, and R will add them for you and give you the results back. For instance, if you run the following operation (Press Ctrl+Enter while the code snipped is selected), R will output **2**."
   ]
  },
  {
   "cell_type": "code",
   "execution_count": null,
   "metadata": {
    "collapsed": false,
    "deletable": true,
    "editable": true
   },
   "outputs": [],
   "source": [
    "1+1"
   ]
  },
  {
   "cell_type": "markdown",
   "metadata": {
    "deletable": true,
    "editable": true
   },
   "source": [
    "If you know want to know the value of the number Pi:"
   ]
  },
  {
   "cell_type": "code",
   "execution_count": null,
   "metadata": {
    "collapsed": false,
    "deletable": true,
    "editable": true
   },
   "outputs": [],
   "source": [
    "pi"
   ]
  },
  {
   "cell_type": "markdown",
   "metadata": {
    "deletable": true,
    "editable": true
   },
   "source": [
    "and so on. But R can be used for more interesting stuff than this, like, say, analyzing dataset you or somebody else generated during a research project. For this the first thing you need to do is load data into R. There are many ways to do this, we will use only one method for this purpose:"
   ]
  },
  {
   "cell_type": "code",
   "execution_count": 1,
   "metadata": {
    "collapsed": true,
    "deletable": true,
    "editable": true
   },
   "outputs": [],
   "source": [
    "GlidingSnakeUndulations<-read.csv(\"~/Repos/rScripts/Data/chap03e1GlidingSnakeUndulations.csv\", head=T, sep=\",\")"
   ]
  },
  {
   "cell_type": "markdown",
   "metadata": {
    "deletable": true,
    "editable": true
   },
   "source": [
    "here we need to note three things:\n",
    "+ We have two words separated by an arrow (<-), which is an assignment operator. The left word gives the name of a new *Object* where our data will be stored. The right word (Note: the . is part of the \"word\") is a *Method* telling R what to do. In this case, it says to read a csv file located under the path quoted, and it gives R a hint indicating that in the csv file the first row contains column names and not data *per se*.\n",
    "+ The method name is followed by () where the options (arguments) the method needs to achieve its mission are specified.\n",
    "+ The arrow indicates the direction in which the output moves. In this case, the method takes an input in the form of a localition in my computer, reads it, and outputs an object of a certain type that will be stored in the object GlidingSnakeUndulations.\n",
    "\n",
    "If the previous line of code runs, you just uploaded data into R. Congrats!\n",
    "\n",
    "Now that you have data in R, lets try to see how the data looks like without really getting into the analysis of it. There are three or four commands that very often come very handy and provide information about the data I loaded into R. These are:"
   ]
  },
  {
   "cell_type": "code",
   "execution_count": 2,
   "metadata": {
    "collapsed": false,
    "deletable": true,
    "editable": true
   },
   "outputs": [
    {
     "data": {
      "text/html": [
       "<table>\n",
       "<thead><tr><th scope=col>undulationRate</th></tr></thead>\n",
       "<tbody>\n",
       "\t<tr><td>0.9</td></tr>\n",
       "\t<tr><td>1.2</td></tr>\n",
       "\t<tr><td>1.2</td></tr>\n",
       "\t<tr><td>1.3</td></tr>\n",
       "\t<tr><td>1.4</td></tr>\n",
       "\t<tr><td>1.4</td></tr>\n",
       "</tbody>\n",
       "</table>\n"
      ],
      "text/latex": [
       "\\begin{tabular}{r|l}\n",
       " undulationRate\\\\\n",
       "\\hline\n",
       "\t 0.9\\\\\n",
       "\t 1.2\\\\\n",
       "\t 1.2\\\\\n",
       "\t 1.3\\\\\n",
       "\t 1.4\\\\\n",
       "\t 1.4\\\\\n",
       "\\end{tabular}\n"
      ],
      "text/markdown": [
       "\n",
       "undulationRate | \n",
       "|---|---|---|---|---|---|\n",
       "| 0.9 | \n",
       "| 1.2 | \n",
       "| 1.2 | \n",
       "| 1.3 | \n",
       "| 1.4 | \n",
       "| 1.4 | \n",
       "\n",
       "\n"
      ],
      "text/plain": [
       "  undulationRate\n",
       "1 0.9           \n",
       "2 1.2           \n",
       "3 1.2           \n",
       "4 1.3           \n",
       "5 1.4           \n",
       "6 1.4           "
      ]
     },
     "metadata": {},
     "output_type": "display_data"
    }
   ],
   "source": [
    "head(GlidingSnakeUndulations)"
   ]
  },
  {
   "cell_type": "code",
   "execution_count": 3,
   "metadata": {
    "collapsed": false,
    "deletable": true,
    "editable": true
   },
   "outputs": [
    {
     "data": {
      "text/html": [
       "'undulationRate'"
      ],
      "text/latex": [
       "'undulationRate'"
      ],
      "text/markdown": [
       "'undulationRate'"
      ],
      "text/plain": [
       "[1] \"undulationRate\""
      ]
     },
     "metadata": {},
     "output_type": "display_data"
    }
   ],
   "source": [
    "names(GlidingSnakeUndulations)"
   ]
  },
  {
   "cell_type": "code",
   "execution_count": null,
   "metadata": {
    "collapsed": false,
    "deletable": true,
    "editable": true
   },
   "outputs": [],
   "source": [
    "ls()"
   ]
  },
  {
   "cell_type": "markdown",
   "metadata": {
    "deletable": true,
    "editable": true
   },
   "source": [
    "**ls()** can be used to list the objects stored in the environment. If you want to delete an object, and free the memory it occupied. You can use **rm()**.\n",
    "\n",
    "Now lets say we want to describe somehow the data we have at hand. In this case, the *Undulation Rate* of some snakes. A common way to do this is by calling the method **summary()** on the object data, in this case **GlidingSnakeUndulations**. For instance,"
   ]
  },
  {
   "cell_type": "code",
   "execution_count": null,
   "metadata": {
    "collapsed": false,
    "deletable": true,
    "editable": true
   },
   "outputs": [],
   "source": [
    "summary(GlidingSnakeUndulations)"
   ]
  },
  {
   "cell_type": "markdown",
   "metadata": {
    "deletable": true,
    "editable": true
   },
   "source": [
    "This method will provide you with basic information about the distribution of the variable. It gives you the *mean* and the *median*, as well as the *1st* and *3rd quartiles*, and it provides the *max* and *min* observed values.\n",
    "\n",
    "If a more graphical way is desired, a good way to visualize how a variable is distributed is through a *histogram*. In our example the data is probably not enough to produce a nice histogram, but R doesn't care about that and the graph will be produced."
   ]
  },
  {
   "cell_type": "code",
   "execution_count": null,
   "metadata": {
    "collapsed": false,
    "deletable": true,
    "editable": true
   },
   "outputs": [],
   "source": [
    "hist(GlidingSnakeUndulations$undulationRate)"
   ]
  },
  {
   "cell_type": "markdown",
   "metadata": {
    "deletable": true,
    "editable": true
   },
   "source": [
    "Usually, when we have a *continuous variable* we want to have an idea about the central value of the distribution, this is usually the *mean* (although this depends on the shape of the distribution). The method **summary()** will give you the value of the *mean*, however it will not give any information of the *dispersion* of the data in relation to the mean value. Typically we measure dispersion in the data, by taking the *mean* as a reference and assessing the distance at which it data point is located relative to it. This idea is condensed in the *standard deviation*, which is a measurment that must be always associated to the *mean* value; so remember, every time you report a *mean* you have to report an *standard deviation*.\n",
    "\n",
    "R provides several methods to calculate different values from a dataset. For instance:"
   ]
  },
  {
   "cell_type": "code",
   "execution_count": null,
   "metadata": {
    "collapsed": false,
    "deletable": true,
    "editable": true
   },
   "outputs": [],
   "source": [
    "mean(GlidingSnakeUndulations$undulationRate)"
   ]
  },
  {
   "cell_type": "code",
   "execution_count": null,
   "metadata": {
    "collapsed": false,
    "deletable": true,
    "editable": true
   },
   "outputs": [],
   "source": [
    "median(GlidingSnakeUndulations$undulationRate)"
   ]
  },
  {
   "cell_type": "code",
   "execution_count": null,
   "metadata": {
    "collapsed": false,
    "deletable": true,
    "editable": true
   },
   "outputs": [],
   "source": [
    "sd(GlidingSnakeUndulations$undulationRate)"
   ]
  },
  {
   "cell_type": "code",
   "execution_count": null,
   "metadata": {
    "collapsed": false,
    "deletable": true,
    "editable": true
   },
   "outputs": [],
   "source": [
    "max(GlidingSnakeUndulations$undulationRate)"
   ]
  },
  {
   "cell_type": "code",
   "execution_count": null,
   "metadata": {
    "collapsed": false,
    "deletable": true,
    "editable": true
   },
   "outputs": [],
   "source": [
    "min(GlidingSnakeUndulations$undulationRate)"
   ]
  },
  {
   "cell_type": "markdown",
   "metadata": {
    "deletable": true,
    "editable": true
   },
   "source": [
    "R also provides methods to calculate whatever **quantile** you want to have. For instance:"
   ]
  },
  {
   "cell_type": "code",
   "execution_count": null,
   "metadata": {
    "collapsed": false,
    "deletable": true,
    "editable": true
   },
   "outputs": [],
   "source": [
    "quantile(GlidingSnakeUndulations$undulationRate, 0.25)"
   ]
  },
  {
   "cell_type": "code",
   "execution_count": null,
   "metadata": {
    "collapsed": false,
    "deletable": true,
    "editable": true
   },
   "outputs": [],
   "source": [
    "quantile(GlidingSnakeUndulations$undulationRate, 0.5)"
   ]
  },
  {
   "cell_type": "code",
   "execution_count": null,
   "metadata": {
    "collapsed": false,
    "deletable": true,
    "editable": true
   },
   "outputs": [],
   "source": [
    "quantile(GlidingSnakeUndulations$undulationRate, 0.75)"
   ]
  },
  {
   "cell_type": "markdown",
   "metadata": {
    "deletable": true,
    "editable": true
   },
   "source": [
    "With these basic methods you can describe continuous quantitative variable in a very thorough manner. And with a bit of imagination you can derive other descriptors by combining methods, for instance the standard error of the mean and the coefficient of variation would be calculated in the following way:"
   ]
  },
  {
   "cell_type": "code",
   "execution_count": null,
   "metadata": {
    "collapsed": false,
    "deletable": true,
    "editable": true
   },
   "outputs": [],
   "source": [
    "sd(GlidingSnakeUndulations$undulationRate)/sqrt(nrow(GlidingSnakeUndulations))"
   ]
  },
  {
   "cell_type": "code",
   "execution_count": 4,
   "metadata": {
    "collapsed": false,
    "deletable": true,
    "editable": true
   },
   "outputs": [
    {
     "data": {
      "text/html": [
       "0.235663298123922"
      ],
      "text/latex": [
       "0.235663298123922"
      ],
      "text/markdown": [
       "0.235663298123922"
      ],
      "text/plain": [
       "[1] 0.2356633"
      ]
     },
     "metadata": {},
     "output_type": "display_data"
    }
   ],
   "source": [
    "sd(GlidingSnakeUndulations$undulationRate)/mean(GlidingSnakeUndulations$undulationRate)"
   ]
  }
 ],
 "metadata": {
  "kernelspec": {
   "display_name": "R",
   "language": "R",
   "name": "ir"
  },
  "language_info": {
   "codemirror_mode": "r",
   "file_extension": ".r",
   "mimetype": "text/x-r-source",
   "name": "R",
   "pygments_lexer": "r",
   "version": "3.2.2"
  }
 },
 "nbformat": 4,
 "nbformat_minor": 1
}
