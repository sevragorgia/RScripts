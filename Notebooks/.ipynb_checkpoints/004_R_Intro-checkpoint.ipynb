{
 "cells": [
  {
   "cell_type": "markdown",
   "metadata": {
    "deletable": true,
    "editable": true
   },
   "source": [
    "# Testing hypotheses about the mean\n",
    "\n",
    "Last lecture I mentioned a so called *t-test*, also called Student's t-test. We used it to test for differences in the mean number of symbionts after a treatment (water warmer than usual) was applied to a sample of corals.\n",
    "\n",
    "The question we had was, does the increase in water temperature have an effect on the number of symbionts per coral cell we observed?\n",
    "\n",
    "For this, we said, we would like to have six different tanks with corals, three will be randomly selected and the water in those tanks will be warmed to a certain temperature. The remaining three tanks will serve as a control. At the end of the experiment we will have a number of corals that were treated and a number of corals that remained in the control tank, and to all of these corals we applied a method to isolate the symbionts and calculated the amount of symbionts per coral cell.\n",
    "\n",
    "You have to remember that whenever we take a sample we assume this sample comes from a population and that the random variable we measure comes from a given distribution. If we assume the random variable comes from a normal distribution, we can simulate our experiment if we randomly sample from a normal distribution.\n",
    "\n",
    "Lets say that our control corals have 26 symbionts per cell on average and that the standard deviation we observed was 6. Our treatment corals, in contrast, have only 14 symbionts per cell on average with a standard deviation also of 6. This is rare, but for the sake of the example we will keep the standard deviation equal.\n",
    "\n",
    "To simulate sampling from these two normal distributions in R:"
   ]
  },
  {
   "cell_type": "code",
   "execution_count": 1,
   "metadata": {
    "collapsed": false,
    "deletable": true,
    "editable": true
   },
   "outputs": [
    {
     "data": {
      "text/html": [
       "<ol class=list-inline>\n",
       "\t<li>22.6371461206867</li>\n",
       "\t<li>24.6189350631003</li>\n",
       "\t<li>35.3522498848947</li>\n",
       "\t<li>26.4230503485475</li>\n",
       "\t<li>26.7757264109657</li>\n",
       "\t<li>36.2903899212997</li>\n",
       "\t<li>28.7654972359352</li>\n",
       "\t<li>18.4096325923608</li>\n",
       "\t<li>21.8788828886388</li>\n",
       "</ol>\n"
      ],
      "text/latex": [
       "\\begin{enumerate*}\n",
       "\\item 22.6371461206867\n",
       "\\item 24.6189350631003\n",
       "\\item 35.3522498848947\n",
       "\\item 26.4230503485475\n",
       "\\item 26.7757264109657\n",
       "\\item 36.2903899212997\n",
       "\\item 28.7654972359352\n",
       "\\item 18.4096325923608\n",
       "\\item 21.8788828886388\n",
       "\\end{enumerate*}\n"
      ],
      "text/markdown": [
       "1. 22.6371461206867\n",
       "2. 24.6189350631003\n",
       "3. 35.3522498848947\n",
       "4. 26.4230503485475\n",
       "5. 26.7757264109657\n",
       "6. 36.2903899212997\n",
       "7. 28.7654972359352\n",
       "8. 18.4096325923608\n",
       "9. 21.8788828886388\n",
       "\n",
       "\n"
      ],
      "text/plain": [
       "[1] 22.63715 24.61894 35.35225 26.42305 26.77573 36.29039 28.76550 18.40963\n",
       "[9] 21.87888"
      ]
     },
     "metadata": {},
     "output_type": "display_data"
    }
   ],
   "source": [
    "set.seed(123)\n",
    "rnorm(3*3, 26, 6)"
   ]
  },
  {
   "cell_type": "code",
   "execution_count": 2,
   "metadata": {
    "collapsed": false,
    "deletable": true,
    "editable": true
   },
   "outputs": [
    {
     "data": {
      "text/html": [
       "<ol class=list-inline>\n",
       "\t<li>22.6371461206867</li>\n",
       "\t<li>24.6189350631003</li>\n",
       "\t<li>35.3522498848947</li>\n",
       "\t<li>26.4230503485475</li>\n",
       "\t<li>26.7757264109657</li>\n",
       "\t<li>36.2903899212997</li>\n",
       "\t<li>28.7654972359352</li>\n",
       "\t<li>18.4096325923608</li>\n",
       "\t<li>21.8788828886388</li>\n",
       "</ol>\n"
      ],
      "text/latex": [
       "\\begin{enumerate*}\n",
       "\\item 22.6371461206867\n",
       "\\item 24.6189350631003\n",
       "\\item 35.3522498848947\n",
       "\\item 26.4230503485475\n",
       "\\item 26.7757264109657\n",
       "\\item 36.2903899212997\n",
       "\\item 28.7654972359352\n",
       "\\item 18.4096325923608\n",
       "\\item 21.8788828886388\n",
       "\\end{enumerate*}\n"
      ],
      "text/markdown": [
       "1. 22.6371461206867\n",
       "2. 24.6189350631003\n",
       "3. 35.3522498848947\n",
       "4. 26.4230503485475\n",
       "5. 26.7757264109657\n",
       "6. 36.2903899212997\n",
       "7. 28.7654972359352\n",
       "8. 18.4096325923608\n",
       "9. 21.8788828886388\n",
       "\n",
       "\n"
      ],
      "text/plain": [
       "[1] 22.63715 24.61894 35.35225 26.42305 26.77573 36.29039 28.76550 18.40963\n",
       "[9] 21.87888"
      ]
     },
     "metadata": {},
     "output_type": "display_data"
    }
   ],
   "source": [
    "set.seed(123)\n",
    "rnorm(3*3, 26, 6)"
   ]
  },
  {
   "cell_type": "markdown",
   "metadata": {
    "deletable": true,
    "editable": true
   },
   "source": [
    "We just did our experiment!\n",
    "\n",
    "Now we can try to test whether these two means are different. But lets create first a data.frame:"
   ]
  },
  {
   "cell_type": "code",
   "execution_count": 3,
   "metadata": {
    "collapsed": false,
    "deletable": true,
    "editable": true
   },
   "outputs": [
    {
     "data": {
      "text/html": [
       "<table>\n",
       "<thead><tr><th scope=col>treatment_column</th><th scope=col>symbionts_per_coral_cell</th></tr></thead>\n",
       "<tbody>\n",
       "\t<tr><td>C       </td><td>22.63715</td></tr>\n",
       "\t<tr><td>C       </td><td>24.61894</td></tr>\n",
       "\t<tr><td>C       </td><td>35.35225</td></tr>\n",
       "\t<tr><td>C       </td><td>26.42305</td></tr>\n",
       "\t<tr><td>C       </td><td>26.77573</td></tr>\n",
       "\t<tr><td>C       </td><td>36.29039</td></tr>\n",
       "\t<tr><td>C       </td><td>28.76550</td></tr>\n",
       "\t<tr><td>C       </td><td>18.40963</td></tr>\n",
       "\t<tr><td>C       </td><td>21.87888</td></tr>\n",
       "\t<tr><td>T       </td><td>19.32603</td></tr>\n",
       "\t<tr><td>T       </td><td>29.34449</td></tr>\n",
       "\t<tr><td>T       </td><td>24.15888</td></tr>\n",
       "\t<tr><td>T       </td><td>24.40463</td></tr>\n",
       "\t<tr><td>T       </td><td>22.66410</td></tr>\n",
       "\t<tr><td>T       </td><td>18.66495</td></tr>\n",
       "\t<tr><td>T       </td><td>32.72148</td></tr>\n",
       "\t<tr><td>T       </td><td>24.98710</td></tr>\n",
       "\t<tr><td>T       </td><td>10.20030</td></tr>\n",
       "</tbody>\n",
       "</table>\n"
      ],
      "text/latex": [
       "\\begin{tabular}{r|ll}\n",
       " treatment\\_column & symbionts\\_per\\_coral\\_cell\\\\\n",
       "\\hline\n",
       "\t C        & 22.63715\\\\\n",
       "\t C        & 24.61894\\\\\n",
       "\t C        & 35.35225\\\\\n",
       "\t C        & 26.42305\\\\\n",
       "\t C        & 26.77573\\\\\n",
       "\t C        & 36.29039\\\\\n",
       "\t C        & 28.76550\\\\\n",
       "\t C        & 18.40963\\\\\n",
       "\t C        & 21.87888\\\\\n",
       "\t T        & 19.32603\\\\\n",
       "\t T        & 29.34449\\\\\n",
       "\t T        & 24.15888\\\\\n",
       "\t T        & 24.40463\\\\\n",
       "\t T        & 22.66410\\\\\n",
       "\t T        & 18.66495\\\\\n",
       "\t T        & 32.72148\\\\\n",
       "\t T        & 24.98710\\\\\n",
       "\t T        & 10.20030\\\\\n",
       "\\end{tabular}\n"
      ],
      "text/markdown": [
       "\n",
       "treatment_column | symbionts_per_coral_cell | \n",
       "|---|---|---|---|---|---|---|---|---|---|---|---|---|---|---|---|---|---|\n",
       "| C        | 22.63715 | \n",
       "| C        | 24.61894 | \n",
       "| C        | 35.35225 | \n",
       "| C        | 26.42305 | \n",
       "| C        | 26.77573 | \n",
       "| C        | 36.29039 | \n",
       "| C        | 28.76550 | \n",
       "| C        | 18.40963 | \n",
       "| C        | 21.87888 | \n",
       "| T        | 19.32603 | \n",
       "| T        | 29.34449 | \n",
       "| T        | 24.15888 | \n",
       "| T        | 24.40463 | \n",
       "| T        | 22.66410 | \n",
       "| T        | 18.66495 | \n",
       "| T        | 32.72148 | \n",
       "| T        | 24.98710 | \n",
       "| T        | 10.20030 | \n",
       "\n",
       "\n"
      ],
      "text/plain": [
       "   treatment_column symbionts_per_coral_cell\n",
       "1  C                22.63715                \n",
       "2  C                24.61894                \n",
       "3  C                35.35225                \n",
       "4  C                26.42305                \n",
       "5  C                26.77573                \n",
       "6  C                36.29039                \n",
       "7  C                28.76550                \n",
       "8  C                18.40963                \n",
       "9  C                21.87888                \n",
       "10 T                19.32603                \n",
       "11 T                29.34449                \n",
       "12 T                24.15888                \n",
       "13 T                24.40463                \n",
       "14 T                22.66410                \n",
       "15 T                18.66495                \n",
       "16 T                32.72148                \n",
       "17 T                24.98710                \n",
       "18 T                10.20030                "
      ]
     },
     "metadata": {},
     "output_type": "display_data"
    }
   ],
   "source": [
    "set.seed(123)\n",
    "control<-rnorm(3*3,26,6)\n",
    "treatment<-rnorm(3*3,22,6)\n",
    "\n",
    "symbionts_per_coral_cell<-c(control,treatment)\n",
    "treatment_column<-c(rep(\"C\",3*3), rep(\"T\",3*3))\n",
    "coral_dataset<-data.frame(treatment_column, symbionts_per_coral_cell)\n",
    "\n",
    "coral_dataset"
   ]
  },
  {
   "cell_type": "markdown",
   "metadata": {
    "deletable": true,
    "editable": true
   },
   "source": [
    "Whenever you have some data you want to first visualize it, estimate the mean, the standard deviation, etc. So:"
   ]
  },
  {
   "cell_type": "code",
   "execution_count": 4,
   "metadata": {
    "collapsed": false,
    "deletable": true,
    "editable": true
   },
   "outputs": [
    {
     "name": "stdout",
     "output_type": "stream",
     "text": [
      "[1] \"mean by treatment\"\n"
     ]
    },
    {
     "data": {
      "text/html": [
       "<dl class=dl-horizontal>\n",
       "\t<dt>C</dt>\n",
       "\t\t<dd>26.7946122740477</dd>\n",
       "\t<dt>T</dt>\n",
       "\t\t<dd>22.9413287630564</dd>\n",
       "</dl>\n"
      ],
      "text/plain": [
       "       C        T \n",
       "26.79461 22.94133 "
      ]
     },
     "metadata": {},
     "output_type": "display_data"
    },
    {
     "name": "stdout",
     "output_type": "stream",
     "text": [
      "[1] \"sd by treatment\"\n"
     ]
    },
    {
     "data": {
      "text/html": [
       "<dl class=dl-horizontal>\n",
       "\t<dt>C</dt>\n",
       "\t\t<dd>5.95730783233277</dd>\n",
       "\t<dt>T</dt>\n",
       "\t\t<dd>6.5022037485199</dd>\n",
       "</dl>\n"
      ],
      "text/plain": [
       "       C        T \n",
       "5.957308 6.502204 "
      ]
     },
     "metadata": {},
     "output_type": "display_data"
    }
   ],
   "source": [
    "print(\"mean by treatment\")\n",
    "tapply(coral_dataset$symbionts_per_coral_cell, coral_dataset$treatment_column, mean)\n",
    "print(\"sd by treatment\")\n",
    "tapply(coral_dataset$symbionts_per_coral_cell, coral_dataset$treatment_column, sd)"
   ]
  },
  {
   "cell_type": "code",
   "execution_count": 5,
   "metadata": {
    "collapsed": false,
    "deletable": true,
    "editable": true
   },
   "outputs": [
    {
     "data": {
      "image/png": "[encoded data removed]",
      "text/plain": [
       "plot without title"
      ]
     },
     "metadata": {},
     "output_type": "display_data"
    }
   ],
   "source": [
    "boxplot(coral_dataset$symbionts_per_coral_cell~coral_dataset$treatment_column)"
   ]
  },
  {
   "cell_type": "markdown",
   "metadata": {
    "deletable": true,
    "editable": true
   },
   "source": [
    "Ok, so, we kind of see that the treatments are different. The purpose of hypothesis testing is precisely to make these kind of statements more objective. Hypothesis testing gives us a way to avoid arguing about whether we see kind of differences because it gives us a way to standardize what we will consider to be different."
   ]
  },
  {
   "cell_type": "code",
   "execution_count": 6,
   "metadata": {
    "collapsed": false,
    "deletable": true,
    "editable": true
   },
   "outputs": [
    {
     "data": {
      "text/plain": [
       "\n",
       "\tWelch Two Sample t-test\n",
       "\n",
       "data:  coral_dataset$symbionts_per_coral_cell by coral_dataset$treatment_column\n",
       "t = 1.3108, df = 15.879, p-value = 0.2086\n",
       "alternative hypothesis: true difference in means is not equal to 0\n",
       "95 percent confidence interval:\n",
       " -2.382129 10.088696\n",
       "sample estimates:\n",
       "mean in group C mean in group T \n",
       "       26.79461        22.94133 \n"
      ]
     },
     "metadata": {},
     "output_type": "display_data"
    }
   ],
   "source": [
    "t.test(coral_dataset$symbionts_per_coral_cell~coral_dataset$treatment_column)"
   ]
  }
 ],
 "metadata": {
  "kernelspec": {
   "display_name": "R",
   "language": "R",
   "name": "ir"
  },
  "language_info": {
   "codemirror_mode": "r",
   "file_extension": ".r",
   "mimetype": "text/x-r-source",
   "name": "R",
   "pygments_lexer": "r",
   "version": "3.2.2"
  }
 },
 "nbformat": 4,
 "nbformat_minor": 1
}
