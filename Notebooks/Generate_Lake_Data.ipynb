{
 "cells": [
  {
   "cell_type": "markdown",
   "metadata": {
    "deletable": true,
    "editable": true
   },
   "source": [
    "# Welcome to R from a Jupyter notebook!"
   ]
  },
  {
   "cell_type": "markdown",
   "metadata": {
    "deletable": true,
    "editable": true
   },
   "source": [
    "This is how a Jupyter Notebook looks like. Here I will create the dataset for our toy lake example and I will introduce some basic (and more advance as well) plotting functionality to you.\n",
    "\n",
    "First a test that the R kernel works:"
   ]
  },
  {
   "cell_type": "code",
   "execution_count": null,
   "metadata": {
    "collapsed": false,
    "deletable": true,
    "editable": true
   },
   "outputs": [],
   "source": [
    "1+1"
   ]
  },
  {
   "cell_type": "markdown",
   "metadata": {
    "deletable": true,
    "editable": true
   },
   "source": [
    "It works! By the way, the text you see is Markdown. So, a Jupyter Notebook is a good way to combine text (formatted using Markdown) and R or Python code to create reproducible analytical pipelines.\n",
    "\n",
    "In this notebook, I will use **bold** face whenever I write R syntax we discussed during the lecture."
   ]
  },
  {
   "cell_type": "markdown",
   "metadata": {
    "deletable": true,
    "editable": true
   },
   "source": [
    "## Generating data for Lake Poing\n",
    "\n",
    "The first step after our design lecture is to generate the data we wanted to sample from our lake. We agreed on 50 stations and gained some knowledge about the geography of the lake (i.e. its surroundings, etc.). We are going to use this knowledge to conduct our initial sampling and later in the course to design our experiments in a meaningful way.\n",
    "\n",
    "Next I will generate a **dataframe** that will contain the following variables. To aggregate the variable in our **dataframe** I will create 1D arrays that will represent a physical/chemical parameter of the lake (e.g. temperature). Once I have all the sampling points I want in the vectors I will aggregate them into a **dataframe**.\n",
    "\n",
    "We agreed in that we wanted to measure the following parameters at each station:\n",
    "\n",
    "- Distance from coast line (meters)\n",
    "- Depth (meters)\n",
    "- Surface temperature (degrees Celsius)\n",
    "- Turbidity (Secchi disk meters)\n",
    "- Nitrate concentration (mg/ml)\n",
    "- Phosphate concentration (mg/ml)\n",
    "- pH\n",
    "- Dissolved Oxygen (mg/mL)\n",
    "- Chlorophyl concentration (mg/ml)\n",
    "\n",
    "And we mentioned different areas in which the lake can be divided:\n",
    "\n",
    "- Natural reserve\n",
    "- Agricultural land use\n",
    "- Town area\n",
    "- Industrial area (the mining processing company that wants to expand)\n",
    "\n",
    "I think we need to include a fifth area that will be something like *open waters* and will group stations that are too faraway from the land. The problem is, of course, that at the begining of the study we don't know what \"far\" means. For now we only document the distance to land of each station we sample. We can use these data later if an *open water* category is needed to groups some stations.\n",
    "\n",
    "To generate the data, we need to learn a bit about probability distributions. I will introduce a few of them in the next blocks of R code and I will try to give examples of how these distributions can be used.\n",
    "\n",
    "Lets start with the normal distribution. This one looks... normal."
   ]
  },
  {
   "cell_type": "code",
   "execution_count": null,
   "metadata": {
    "collapsed": false,
    "deletable": true,
    "editable": true
   },
   "outputs": [],
   "source": [
    "plot(function(x) dnorm(x, 0, 1), -5, 5, ylab=\"Density\", main=\"A normal distribution with mean=0 and stdev=1\")"
   ]
  },
  {
   "cell_type": "markdown",
   "metadata": {
    "deletable": true,
    "editable": true
   },
   "source": [
    "If you only want positive numbers (we will use this one later to generate our data for some variables), you can use a lognormal distribution. This one will be truncated at zero"
   ]
  },
  {
   "cell_type": "code",
   "execution_count": null,
   "metadata": {
    "collapsed": false,
    "deletable": true,
    "editable": true
   },
   "outputs": [],
   "source": [
    "plot(function(x) dlnorm(x, 1, 1), -1, 20, ylab=\"Density\", main=\"A lognormal distribution with mean=1 and stdev=1\")"
   ]
  },
  {
   "cell_type": "markdown",
   "metadata": {
    "deletable": true,
    "editable": true
   },
   "source": [
    "These two are good for continuous variables. What if you have counts? Ussually counts are modelled using a Poisson distribution."
   ]
  },
  {
   "cell_type": "code",
   "execution_count": null,
   "metadata": {
    "collapsed": false,
    "deletable": true,
    "editable": true,
    "scrolled": false
   },
   "outputs": [],
   "source": [
    "plot(dpois(x=1:6, lambda=1), ylab=\"Density\", xlab=\"x\", main=\"A poisson distribution with lambda=1\")"
   ]
  },
  {
   "cell_type": "markdown",
   "metadata": {
    "deletable": true,
    "editable": true
   },
   "source": [
    "We could keep adding distributions to the Notebook, but I am going to stop here. I just want to add that **R** implements many distributions and that we use those distributions to generate data points. For instance, suppose we want to simulate sampling 50 data points from a normal distribution with mean=0 and stdev=1 (a normal standard distribution). We do the following: "
   ]
  },
  {
   "cell_type": "code",
   "execution_count": null,
   "metadata": {
    "collapsed": false,
    "deletable": true,
    "editable": true
   },
   "outputs": [],
   "source": [
    "set.seed(12345)#this assures that we always get the same results when the next function is called\n",
    "normal_data<-rnorm(50,0,1)\n",
    "print(normal_data)"
   ]
  },
  {
   "cell_type": "markdown",
   "metadata": {
    "deletable": true,
    "editable": true
   },
   "source": [
    "These data comes from a distribution that looks like the distribution plotted above. If you plot that data it doesn't look normal or similar to the curve we saw before."
   ]
  },
  {
   "cell_type": "code",
   "execution_count": null,
   "metadata": {
    "collapsed": false,
    "deletable": true,
    "editable": true
   },
   "outputs": [],
   "source": [
    "hist(normal_data)"
   ]
  },
  {
   "cell_type": "markdown",
   "metadata": {
    "deletable": true,
    "editable": true
   },
   "source": [
    "This is because we only took 50 points. If you change the number of sampled points to 5000 things change."
   ]
  },
  {
   "cell_type": "code",
   "execution_count": null,
   "metadata": {
    "collapsed": false,
    "deletable": true,
    "editable": true
   },
   "outputs": [],
   "source": [
    "set.seed(12345)#this assures that we always get the same results when the next function is called\n",
    "lots_of_normal_data<-rnorm(5000,0,1)\n",
    "hist(lots_of_normal_data)"
   ]
  },
  {
   "cell_type": "markdown",
   "metadata": {
    "deletable": true,
    "editable": true
   },
   "source": [
    "Lets now generate the data for Lake Poing.\n",
    "\n",
    "We want:\n",
    "- Distance from coast line (meters)\n",
    "- Depth (meters)\n",
    "- Surface temperature (degrees Celsius)\n",
    "- Turbidity (Secchi disk meters)\n",
    "- Nitrate concentration (mg/ml)\n",
    "- Phosphate concentration (mg/ml)\n",
    "- pH\n",
    "- Dissolved Oxygen (mg/mL)\n",
    "- Chlorophyl concentration (mg/ml)\n",
    "\n",
    "The function below generates data from the 50 stations for each of the variables above (assuming of course that they are normally distributed).\n",
    " \n",
    "Tto keep it simple, I will generate 50 datapoints per variable first. Assuming we went there and sampled one time so far.\n",
    "\n",
    "The function needs a vector of means, and because I want to generate data that makes some sense, I will generate the data from a multivariate normal to add some (correlation) structure to it. To do this I need information about the covariance matrix... However, I am not that good and cannot generate nice data on the fly from the covariance (because I don't know which covariance values to use...). The good news is, I can calculate the covariance matrix from the correlation matrix, which I can specify easily. The only information I need is the correlation matrix and a vector with the standard deviation of the variables and the function *cor2cov* from the package *lavaan* will do the magic.\n",
    "\n",
    "As discussed in class, I don't want to have negative values for most variables. So I will use a truncate multivariate normal distribution to avoid values < 0.\n",
    "\n"
   ]
  },
  {
   "cell_type": "code",
   "execution_count": 1,
   "metadata": {
    "collapsed": false,
    "deletable": true,
    "editable": true,
    "scrolled": true
   },
   "outputs": [
    {
     "name": "stderr",
     "output_type": "stream",
     "text": [
      "Loading required package: mvtnorm\n",
      "Loading required package: Matrix\n",
      "Loading required package: stats4\n",
      "Loading required package: gmm\n",
      "Loading required package: sandwich\n",
      "This is lavaan 0.5-23.1097\n",
      "lavaan is BETA software! Please report any bugs.\n",
      "Warning message:\n",
      "In rtmvnorm.rejection(n, mean, sigma, lower, upper, ...): Acceptance rate is very low (0) and rejection sampling becomes inefficient. Consider using Gibbs sampling.Warning message:\n",
      "In rmvnorm(nproposals, mean = mean, sigma = sigma): sigma is numerically not positive semidefiniteWarning message:\n",
      "In rmvnorm(nproposals, mean = mean, sigma = sigma): sigma is numerically not positive semidefiniteWarning message:\n",
      "In rmvnorm(nproposals, mean = mean, sigma = sigma): sigma is numerically not positive semidefiniteWarning message:\n",
      "In rmvnorm(nproposals, mean = mean, sigma = sigma): sigma is numerically not positive semidefiniteWarning message:\n",
      "In rmvnorm(nproposals, mean = mean, sigma = sigma): sigma is numerically not positive semidefiniteWarning message:\n",
      "In rmvnorm(nproposals, mean = mean, sigma = sigma): sigma is numerically not positive semidefiniteWarning message:\n",
      "In rmvnorm(nproposals, mean = mean, sigma = sigma): sigma is numerically not positive semidefinite"
     ]
    }
   ],
   "source": [
    "#btw, this is a comment...\n",
    "\n",
    "#this is how you import libraries into your session\n",
    "\n",
    "library(MASS)#needed to generate multivariate normal data\n",
    "library(tmvtnorm)#needed to generate truncated multivariate normal data\n",
    "library(lavaan)#needed to get the funcion cor2cov\n",
    "\n",
    "genMultiVariateNormalData <- function(n,mu=c(0),sigma=matrix(1), varnames, truncate=T, left_truncate=c(-Inf), right_truncate=c(Inf)) {\n",
    "  \n",
    "  #check that the mean vector and the stdev vector are of the same length.\n",
    "  if ((r <- length(mu)) != NCOL(sigma)) {\n",
    "    stop(\"mu and sigma must have the same number of columns\", call.=FALSE)\n",
    "  }\n",
    "\n",
    "  stationID<-rep(1:n)\n",
    "\n",
    "  if(truncate){\n",
    "\n",
    "    x <- rtmvnorm(n,mean=mu,sigma=sigma, lower=left_truncate, upper=right_truncate)\n",
    "      \n",
    "  }else{\n",
    "  \n",
    "    x <- rmvnorm(n,mean=mu,Sigma=sigma)\n",
    "      \n",
    "  }\n",
    "  \n",
    "  dd<-data.frame(var1=stationID,var2=x)\n",
    "  colnames(dd)<-varnames\n",
    "  dd  \n",
    "}\n",
    "\n",
    "#the mean value for each variable\n",
    "meanVector<-c(500,35,17.8,22.4,27.79,2.03,8.4,4.1,398.73)\n",
    "\n",
    "#the value of the standard deviation of each variable\n",
    "sdVector<-c(150,17,3.3,8,7.8,1.8,0.3,3.1,200)\n",
    "\n",
    "#the correlation matrix specifying how different variables relate to each other.\n",
    "corMatrix<-matrix(c(1,0.23,-0.36,-0.43,-0.62,-0.51,0.1,0.15,0.27,0.23,1,-0.34,-0.54,-0.57,-0.47,-0.12,0.17,0.32,-0.36,-0.34,1,0.07,0.45,0.39,0.09,-0.24,0.23,-0.43,-0.54,0.07,1,0.7,0.59,-0.03,-0.27,0.8,-0.62,-0.57,0.45,0.7,1,0.79,0.21,0.4,0.87,-0.51,-0.47,0.39,0.59,0.79,1,0.13,0.57,0.91,0.1,-0.12,0.09,-0.03,0.21,0.13,1,0.07,0.23,0.15,0.17,-0.24,-0.27,0.4,0.57,0.07,1,0.28,0.27,0.32,0.23,0.8,0.87,0.91,0.23,0.28,1),9,9)\n",
    "#here we calculate the covariace matrix.\n",
    "covMatrix<-cor2cov(corMatrix,sdVector)\n",
    "\n",
    "#and here we generate the data. Note we get some warnings!\n",
    "LakePoing_PhysicoChemData<-genMultiVariateNormalData(50, meanVector, covMatrix, c(\"StationID\",\"DistanceFromCoastLine\",\"Depth\",\"Temperature\",\"Turbidity\",\"NitrateConcentration\",\"PhosphateConcentration\",\"pH\",\"DissolvedOxygen\",\"ChlorophylConcentration\"), truncate=T, left_truncate=rep(0,9), right_truncate=rep(Inf,9))\n",
    "\n",
    "write.csv(LakePoing_PhysicoChemData, \"./LakePoing_PhysicoChemData.csv\")\n"
   ]
  },
  {
   "cell_type": "markdown",
   "metadata": {
    "deletable": true,
    "editable": true
   },
   "source": [
    "The data has been generated, but, is it how we wanted it to be?"
   ]
  },
  {
   "cell_type": "code",
   "execution_count": null,
   "metadata": {
    "collapsed": false,
    "deletable": true,
    "editable": true
   },
   "outputs": [],
   "source": [
    "#check the header of the data\n",
    "head(LakePoing_PhysicoChemData)\n",
    "\n",
    "#print the meanVector used to generate the data\n",
    "meanVector\n",
    "#apply the function mean to all the columns in the dataframe\n",
    "sapply(LakePoing_PhysicoChemData, mean)\n",
    "#print the sdVector used to generate the data\n",
    "sdVector\n",
    "#apply the function sd to all the columns in the dataframe\n",
    "sapply(LakePoing_PhysicoChemData, sd)"
   ]
  },
  {
   "cell_type": "markdown",
   "metadata": {
    "deletable": true,
    "editable": true
   },
   "source": [
    "Looks decent. What about the correlation structure of the variables?"
   ]
  },
  {
   "cell_type": "code",
   "execution_count": null,
   "metadata": {
    "collapsed": false,
    "deletable": true,
    "editable": true
   },
   "outputs": [],
   "source": [
    "#print correlation matrix used\n",
    "corMatrix\n",
    "#we don't care about the first column = stationID; print actual correlation matrix\n",
    "cor(LakePoing_PhysicoChemData[,2:10])"
   ]
  },
  {
   "cell_type": "markdown",
   "metadata": {
    "deletable": true,
    "editable": true
   },
   "source": [
    "Another way to do it is to use the function *pairs()*."
   ]
  },
  {
   "cell_type": "code",
   "execution_count": null,
   "metadata": {
    "collapsed": false,
    "deletable": true,
    "editable": true
   },
   "outputs": [],
   "source": [
    "pairs(LakePoing_PhysicoChemData)"
   ]
  },
  {
   "cell_type": "markdown",
   "metadata": {
    "deletable": true,
    "editable": true
   },
   "source": [
    "Now the usual exploratory data analysis round. This time I'll do it the lazy way... I mean with a bit of programming."
   ]
  },
  {
   "cell_type": "code",
   "execution_count": null,
   "metadata": {
    "collapsed": false,
    "deletable": true,
    "editable": true
   },
   "outputs": [],
   "source": [
    "for(i in colnames(LakePoing_PhysicoChemData[,2:10])){\n",
    "    \n",
    "    hist(LakePoing_PhysicoChemData[[i]], main=i)\n",
    "    \n",
    "}\n"
   ]
  },
  {
   "cell_type": "markdown",
   "metadata": {
    "deletable": true,
    "editable": true
   },
   "source": [
    "This is the equivalent of:\n",
    "```R\n",
    ">hist(LakePoing_PhysicoChemData$DistanceFromCoastLine, main=\"DistanceFromCoastLine\")\n",
    "\n",
    ">hist(LakePoing_PhysicoChemData$Temperature, main=\"Temperature\")\n",
    "\n",
    "...\n",
    "\n",
    ">hist(LakePoing_PhysicoChemData$ChlorophylConcentration, main=\"ChlorophylConcentration\")\n",
    "```\n",
    "\n",
    "but way faster... I mean I have to write less code (but think/google more).\n",
    "\n",
    "If you are interested in doing something similar to what the *pairs()* function does you can do it for selected variables. For example:"
   ]
  },
  {
   "cell_type": "code",
   "execution_count": null,
   "metadata": {
    "collapsed": false,
    "deletable": true,
    "editable": true
   },
   "outputs": [],
   "source": [
    "plot(LakePoing_PhysicoChemData$ChlorophylConcentration~LakePoing_PhysicoChemData$PhosphateConcentration)"
   ]
  },
  {
   "cell_type": "markdown",
   "metadata": {
    "deletable": true,
    "editable": true
   },
   "source": [
    "Or you can try to code something:"
   ]
  },
  {
   "cell_type": "code",
   "execution_count": null,
   "metadata": {
    "collapsed": false,
    "deletable": true,
    "editable": true
   },
   "outputs": [],
   "source": [
    "#remember we don't want column 1...\n",
    "\n",
    "for(y in 2:ncol(LakePoing_PhysicoChemData)){#for all columns starting with column 2\n",
    "    for(x in (y+1):ncol(LakePoing_PhysicoChemData)){#for all columns starting with the previous selected column\n",
    "        title<-paste(c(as.character(colnames(LakePoing_PhysicoChemData[y])), \"vs.\", as.character(colnames(LakePoing_PhysicoChemData[x]))), sep=\" \")\n",
    "        plot(LakePoing_PhysicoChemData[[y]]~LakePoing_PhysicoChemData[[x]], main=title)\n",
    "    } \n",
    "}\n",
    "\n",
    "#how can you modify the x and y labels in the previous nested for loop to plot nicer graphs?"
   ]
  },
  {
   "cell_type": "markdown",
   "metadata": {},
   "source": [
    "Now, remember we wanted to have a sampling that reflected the zonation of the lake margins. These were:\n",
    "\n",
    "- Natural reserve\n",
    "- Agricultural land use\n",
    "- Town area\n",
    "- Industrial area (the mining processing company that wants to expand)\n",
    "\n",
    "using the function *genMultiVariateNormalData* we could generate **n** data points for each of these areas as long as they amount to 50 (our **N**), because we sampled only 50 stations.\n",
    "\n",
    "Above, I mentioned I wanted a fifth class to group stations that cannot be assigned to any area. This will allow us to sample 10 datapoint per area.\n",
    "\n",
    "Now, coupling a *for* cycle with a call to the function *genMultiVariateNormalData* I can generate 10 data points for all the variables (9) for all the areas (5)."
   ]
  },
  {
   "cell_type": "code",
   "execution_count": 28,
   "metadata": {
    "collapsed": false
   },
   "outputs": [
    {
     "name": "stderr",
     "output_type": "stream",
     "text": [
      "Warning message:\n",
      "In rtmvnorm.rejection(n, mean, sigma, lower, upper, ...): Acceptance rate is very low (0) and rejection sampling becomes inefficient. Consider using Gibbs sampling.Warning message:\n",
      "In rmvnorm(nproposals, mean = mean, sigma = sigma): sigma is numerically not positive semidefiniteWarning message:\n",
      "In rmvnorm(nproposals, mean = mean, sigma = sigma): sigma is numerically not positive semidefiniteWarning message:\n",
      "In rmvnorm(nproposals, mean = mean, sigma = sigma): sigma is numerically not positive semidefiniteWarning message:\n",
      "In rtmvnorm.rejection(n, mean, sigma, lower, upper, ...): Acceptance rate is very low (0) and rejection sampling becomes inefficient. Consider using Gibbs sampling.Warning message:\n",
      "In rmvnorm(nproposals, mean = mean, sigma = sigma): sigma is numerically not positive semidefiniteWarning message:\n",
      "In rmvnorm(nproposals, mean = mean, sigma = sigma): sigma is numerically not positive semidefiniteWarning message:\n",
      "In rmvnorm(nproposals, mean = mean, sigma = sigma): sigma is numerically not positive semidefiniteWarning message:\n",
      "In rtmvnorm.rejection(n, mean, sigma, lower, upper, ...): Acceptance rate is very low (0) and rejection sampling becomes inefficient. Consider using Gibbs sampling.Warning message:\n",
      "In rmvnorm(nproposals, mean = mean, sigma = sigma): sigma is numerically not positive semidefiniteWarning message:\n",
      "In rmvnorm(nproposals, mean = mean, sigma = sigma): sigma is numerically not positive semidefiniteWarning message:\n",
      "In rmvnorm(nproposals, mean = mean, sigma = sigma): sigma is numerically not positive semidefiniteWarning message:\n",
      "In rmvnorm(nproposals, mean = mean, sigma = sigma): sigma is numerically not positive semidefiniteWarning message:\n",
      "In rtmvnorm.rejection(n, mean, sigma, lower, upper, ...): Acceptance rate is very low (0) and rejection sampling becomes inefficient. Consider using Gibbs sampling.Warning message:\n",
      "In rmvnorm(nproposals, mean = mean, sigma = sigma): sigma is numerically not positive semidefiniteWarning message:\n",
      "In rmvnorm(nproposals, mean = mean, sigma = sigma): sigma is numerically not positive semidefiniteWarning message:\n",
      "In rmvnorm(nproposals, mean = mean, sigma = sigma): sigma is numerically not positive semidefiniteWarning message:\n",
      "In rtmvnorm.rejection(n, mean, sigma, lower, upper, ...): Acceptance rate is very low (0) and rejection sampling becomes inefficient. Consider using Gibbs sampling.Warning message:\n",
      "In rmvnorm(nproposals, mean = mean, sigma = sigma): sigma is numerically not positive semidefiniteWarning message:\n",
      "In rmvnorm(nproposals, mean = mean, sigma = sigma): sigma is numerically not positive semidefiniteWarning message:\n",
      "In rmvnorm(nproposals, mean = mean, sigma = sigma): sigma is numerically not positive semidefiniteWarning message:\n",
      "In rmvnorm(nproposals, mean = mean, sigma = sigma): sigma is numerically not positive semidefinite"
     ]
    }
   ],
   "source": [
    "areaDF<-data.frame(StationID=as.numeric(),DistanceFromCoastLine=as.numeric(),Depth=as.numeric(),Temperature=as.numeric(),Turbidity=as.numeric(),NitrateConcentration=as.numeric(),PhosphateConcentration=as.numeric(),pH=as.numeric(),DissolvedOxygen=as.numeric(),ChlorophylConcentration=as.numeric())\n",
    "\n",
    "for(area in rep(letters[1:5])) {\n",
    "    \n",
    "    #the mean value for each variable\n",
    "    meanVector<-c(500,35,17.8,22.4,27.79,2.03,8.4,4.1,398.73)\n",
    "\n",
    "    #the value of the standard deviation of each variable\n",
    "    sdVector<-c(150,17,3.3,8,7.8,1.8,0.3,3.1,200)\n",
    "\n",
    "    #the correlation matrix specifying how different variables relate to each other.\n",
    "    corMatrix<-matrix(c(1,0.23,-0.36,-0.43,-0.62,-0.51,0.1,0.15,0.27,0.23,1,-0.34,-0.54,-0.57,-0.47,-0.12,0.17,0.32,-0.36,-0.34,1,0.07,0.45,0.39,0.09,-0.24,0.23,-0.43,-0.54,0.07,1,0.7,0.59,-0.03,-0.27,0.8,-0.62,-0.57,0.45,0.7,1,0.79,0.21,0.4,0.87,-0.51,-0.47,0.39,0.59,0.79,1,0.13,0.57,0.91,0.1,-0.12,0.09,-0.03,0.21,0.13,1,0.07,0.23,0.15,0.17,-0.24,-0.27,0.4,0.57,0.07,1,0.28,0.27,0.32,0.23,0.8,0.87,0.91,0.23,0.28,1),9,9)\n",
    "    \n",
    "    #here we calculate the covariace matrix.\n",
    "    covMatrix<-cor2cov(corMatrix,sdVector)\n",
    "    tmpDF<-data.frame(genMultiVariateNormalData(10, meanVector, covMatrix, c(\"StationID\",\"DistanceFromCoastLine\",\"Depth\",\"Temperature\",\"Turbidity\",\"NitrateConcentration\",\"PhosphateConcentration\",\"pH\",\"DissolvedOxygen\",\"ChlorophylConcentration\"), truncate=T, left_truncate=rep(0,9), right_truncate=rep(Inf,9)),Area=rep(area,10))\n",
    "    areaDF<-merge(areaDF,tmpDF, all=T)\n",
    "}\n",
    "\n"
   ]
  },
  {
   "cell_type": "markdown",
   "metadata": {},
   "source": [
    "Lets check the data generated for any variable:"
   ]
  },
  {
   "cell_type": "code",
   "execution_count": 32,
   "metadata": {
    "collapsed": false
   },
   "outputs": [
    {
     "data": {
      "text/html": [
       "<dl class=dl-horizontal>\n",
       "\t<dt>a</dt>\n",
       "\t\t<dd>4.17026231636955</dd>\n",
       "\t<dt>b</dt>\n",
       "\t\t<dd>3.51836911418753</dd>\n",
       "\t<dt>c</dt>\n",
       "\t\t<dd>3.83678313268238</dd>\n",
       "\t<dt>d</dt>\n",
       "\t\t<dd>2.20566540627299</dd>\n",
       "\t<dt>e</dt>\n",
       "\t\t<dd>3.86483064109472</dd>\n",
       "</dl>\n"
      ],
      "text/plain": [
       "       a        b        c        d        e \n",
       "4.170262 3.518369 3.836783 2.205665 3.864831 "
      ]
     },
     "metadata": {},
     "output_type": "display_data"
    }
   ],
   "source": [
    "tapply(areaDF$PhosphateConcentration,areaDF$Area, mean)"
   ]
  }
 ],
 "metadata": {
  "kernelspec": {
   "display_name": "R",
   "language": "R",
   "name": "ir"
  },
  "language_info": {
   "codemirror_mode": "r",
   "file_extension": ".r",
   "mimetype": "text/x-r-source",
   "name": "R",
   "pygments_lexer": "r",
   "version": "3.2.2"
  }
 },
 "nbformat": 4,
 "nbformat_minor": 1
}
